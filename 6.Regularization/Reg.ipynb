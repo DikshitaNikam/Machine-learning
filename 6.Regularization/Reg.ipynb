{
 "cells": [
  {
   "cell_type": "markdown",
   "metadata": {},
   "source": [
    "# Regularization\n",
    "Regularization is uesd to avoid overfitting by penalty trem\n",
    "1. Ridge(L2)- Penalty applied on square of coeffient\n",
    "2. Lasso (L2)"
   ]
  }
 ],
 "metadata": {
  "kernelspec": {
   "display_name": "venv",
   "language": "python",
   "name": "python3"
  },
  "language_info": {
   "name": "python",
   "version": "3.12.5"
  }
 },
 "nbformat": 4,
 "nbformat_minor": 2
}
